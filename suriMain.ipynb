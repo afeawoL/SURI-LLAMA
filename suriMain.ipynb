{
 "cells": [
  {
   "cell_type": "code",
   "execution_count": 2,
   "id": "8f281442",
   "metadata": {},
   "outputs": [],
   "source": [
    "import os\n",
    "import torch\n",
    "import fairscale\n",
    "import fire\n",
    "import sentencepiece\n"
   ]
  },
  {
   "cell_type": "code",
   "execution_count": null,
   "id": "74bf3ab7",
   "metadata": {},
   "outputs": [],
   "source": [
    "for root, dirs, files in os.walk(\"data/Llama_Repos/codellama-main/Models/CodeLlama-7b-Python\"):\n",
    "    for name in files:\n",
    "        print(os.path.join(root, name))\n",
    "    for name in dirs:\n",
    "        print(os.path.join(root, name))\n",
    "print(\"Hello!\")"
   ]
  },
  {
   "cell_type": "code",
   "execution_count": null,
   "id": "2df066c5",
   "metadata": {},
   "outputs": [],
   "source": [
    "conda install ollama"
   ]
  },
  {
   "cell_type": "code",
   "execution_count": null,
   "id": "5ad94678",
   "metadata": {},
   "outputs": [],
   "source": [
    "cd /notebooks/data/Llama_Repos/codellama-main/Models/CodeLlama-7b-Python"
   ]
  },
  {
   "cell_type": "code",
   "execution_count": null,
   "id": "b3aa0f38",
   "metadata": {},
   "outputs": [],
   "source": [
    "!ollama"
   ]
  },
  {
   "cell_type": "code",
   "execution_count": null,
   "id": "c10af795",
   "metadata": {},
   "outputs": [],
   "source": [
    "!ollama serve"
   ]
  },
  {
   "cell_type": "code",
   "execution_count": null,
   "id": "badf4816",
   "metadata": {},
   "outputs": [],
   "source": [
    "!ollama list llama"
   ]
  },
  {
   "cell_type": "code",
   "execution_count": null,
   "id": "d6646b3e",
   "metadata": {},
   "outputs": [],
   "source": []
  },
  {
   "cell_type": "code",
   "execution_count": null,
   "id": "84c10fef",
   "metadata": {},
   "outputs": [],
   "source": []
  }
 ],
 "metadata": {
  "kernelspec": {
   "display_name": "Python 3",
   "language": "python",
   "name": "python3"
  },
  "language_info": {
   "codemirror_mode": {
    "name": "ipython",
    "version": 3
   },
   "file_extension": ".py",
   "mimetype": "text/x-python",
   "name": "python",
   "nbconvert_exporter": "python",
   "pygments_lexer": "ipython3",
   "version": "3.8.10"
  }
 },
 "nbformat": 4,
 "nbformat_minor": 5
}
