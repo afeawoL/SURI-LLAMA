{
 "cells": [
  {
   "cell_type": "code",
   "execution_count": 1,
   "id": "7bcf158a",
   "metadata": {},
   "outputs": [],
   "source": [
    "import os\n",
    "import torch\n",
    "import fairscale\n",
    "import fire\n",
    "import sentencepiece\n"
   ]
  },
  {
   "cell_type": "code",
   "execution_count": 2,
   "id": "86e1a765",
   "metadata": {},
   "outputs": [
    {
     "name": "stdout",
     "output_type": "stream",
     "text": [
      "data/Llama_Repos/codellama-main/Models/CodeLlama-7b-Python/tokenizer.model\n",
      "data/Llama_Repos/codellama-main/Models/CodeLlama-7b-Python/checklist.chk\n",
      "data/Llama_Repos/codellama-main/Models/CodeLlama-7b-Python/params.json\n",
      "data/Llama_Repos/codellama-main/Models/CodeLlama-7b-Python/consolidated.00.pth\n",
      "Hello!\n"
     ]
    }
   ],
   "source": [
    "for root, dirs, files in os.walk(\"data/Llama_Repos/codellama-main/Models/CodeLlama-7b-Python\"):\n",
    "    for name in files:\n",
    "        print(os.path.join(root, name))\n",
    "    for name in dirs:\n",
    "        print(os.path.join(root, name))\n",
    "print(\"Hello!\")"
   ]
  },
  {
   "cell_type": "code",
   "execution_count": 3,
   "id": "61a1fdb6",
   "metadata": {},
   "outputs": [
    {
     "name": "stdout",
     "output_type": "stream",
     "text": [
      "Collecting package metadata (current_repodata.json): done\n",
      "Solving environment: done\n",
      "\n",
      "\n",
      "==> WARNING: A newer version of conda exists. <==\n",
      "  current version: 22.11.1\n",
      "  latest version: 24.5.0\n",
      "\n",
      "Please update conda by running\n",
      "\n",
      "    $ conda update -n base -c conda-forge conda\n",
      "\n",
      "Or to minimize the number of packages updated during conda update use\n",
      "\n",
      "     conda install conda=24.5.0\n",
      "\n",
      "\n",
      "\n",
      "# All requested packages already installed.\n",
      "\n",
      "\n",
      "Note: you may need to restart the kernel to use updated packages.\n"
     ]
    }
   ],
   "source": [
    "conda install ollama"
   ]
  },
  {
   "cell_type": "code",
   "execution_count": 4,
   "id": "7fb9babd",
   "metadata": {},
   "outputs": [
    {
     "name": "stdout",
     "output_type": "stream",
     "text": [
      "/notebooks/data/Llama_Repos/codellama-main/Models/CodeLlama-7b-Python\n"
     ]
    }
   ],
   "source": [
    "cd /notebooks/data/Llama_Repos/codellama-main/Models/CodeLlama-7b-Python"
   ]
  },
  {
   "cell_type": "code",
   "execution_count": 5,
   "id": "a144e2b8",
   "metadata": {},
   "outputs": [
    {
     "name": "stdout",
     "output_type": "stream",
     "text": [
      "Error: listen tcp 127.0.0.1:11434: bind: address already in use\n"
     ]
    }
   ],
   "source": [
    "!ollama serve"
   ]
  },
  {
   "cell_type": "code",
   "execution_count": null,
   "id": "b07b7bff",
   "metadata": {},
   "outputs": [],
   "source": []
  }
 ],
 "metadata": {
  "kernelspec": {
   "display_name": "Python 3",
   "language": "python",
   "name": "python3"
  },
  "language_info": {
   "codemirror_mode": {
    "name": "ipython",
    "version": 3
   },
   "file_extension": ".py",
   "mimetype": "text/x-python",
   "name": "python",
   "nbconvert_exporter": "python",
   "pygments_lexer": "ipython3",
   "version": "3.8.10"
  }
 },
 "nbformat": 4,
 "nbformat_minor": 5
}
