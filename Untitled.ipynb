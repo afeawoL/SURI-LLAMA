{
 "cells": [
  {
   "cell_type": "code",
   "execution_count": 31,
   "id": "eaf2c483",
   "metadata": {},
   "outputs": [],
   "source": [
    "import torch\n",
    "import os\n",
    "from pathlib import Path"
   ]
  },
  {
   "cell_type": "code",
   "execution_count": 32,
   "id": "f4649e85",
   "metadata": {},
   "outputs": [],
   "source": [
    "C = Path(\"/home/storage-drive/Llama/Models/CodeLlama-7b/checklist.chk\")"
   ]
  },
  {
   "cell_type": "code",
   "execution_count": 33,
   "id": "4af61a28",
   "metadata": {},
   "outputs": [
    {
     "data": {
      "text/plain": [
       "PosixPath('/home/storage-drive/Llama/Models/CodeLlama-7b/checklist.chk')"
      ]
     },
     "execution_count": 33,
     "metadata": {},
     "output_type": "execute_result"
    }
   ],
   "source": [
    "C"
   ]
  },
  {
   "cell_type": "code",
   "execution_count": 38,
   "id": "ed2415b8",
   "metadata": {},
   "outputs": [],
   "source": [
    "D=\"--notebook-dir\""
   ]
  },
  {
   "cell_type": "code",
   "execution_count": 39,
   "id": "80b979c8",
   "metadata": {},
   "outputs": [
    {
     "data": {
      "text/plain": [
       "'--notebook-dir'"
      ]
     },
     "execution_count": 39,
     "metadata": {},
     "output_type": "execute_result"
    }
   ],
   "source": [
    "D"
   ]
  },
  {
   "cell_type": "code",
   "execution_count": null,
   "id": "9ffd8094",
   "metadata": {},
   "outputs": [],
   "source": []
  }
 ],
 "metadata": {
  "kernelspec": {
   "display_name": "Python 3",
   "language": "python",
   "name": "python3"
  },
  "language_info": {
   "codemirror_mode": {
    "name": "ipython",
    "version": 3
   },
   "file_extension": ".py",
   "mimetype": "text/x-python",
   "name": "python",
   "nbconvert_exporter": "python",
   "pygments_lexer": "ipython3",
   "version": "3.8.10"
  }
 },
 "nbformat": 4,
 "nbformat_minor": 5
}
