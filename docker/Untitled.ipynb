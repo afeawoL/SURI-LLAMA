{
 "cells": [
  {
   "cell_type": "code",
   "execution_count": 1,
   "id": "a72c7f9b",
   "metadata": {},
   "outputs": [
    {
     "name": "stdout",
     "output_type": "stream",
     "text": [
      "hello\n"
     ]
    }
   ],
   "source": [
    "print (\"hello\")"
   ]
  },
  {
   "cell_type": "code",
   "execution_count": 2,
   "id": "03bce1d3",
   "metadata": {},
   "outputs": [],
   "source": [
    "d = \"c:/home/leslie/projects\""
   ]
  },
  {
   "cell_type": "code",
   "execution_count": 4,
   "id": "422b00fa",
   "metadata": {},
   "outputs": [],
   "source": [
    "f = '/home/storage-drive/llama/data/models--meta-llama--Llama-2-7b-hf'"
   ]
  },
  {
   "cell_type": "code",
   "execution_count": 5,
   "id": "bd6e3f31",
   "metadata": {},
   "outputs": [
    {
     "name": "stdout",
     "output_type": "stream",
     "text": [
      "/home/storage-drive/llama/data/models--meta-llama--Llama-2-7b-hf\n"
     ]
    }
   ],
   "source": [
    "print(f)"
   ]
  },
  {
   "cell_type": "code",
   "execution_count": null,
   "id": "43478e21",
   "metadata": {},
   "outputs": [],
   "source": []
  }
 ],
 "metadata": {
  "kernelspec": {
   "display_name": "Python 3",
   "language": "python",
   "name": "python3"
  },
  "language_info": {
   "codemirror_mode": {
    "name": "ipython",
    "version": 3
   },
   "file_extension": ".py",
   "mimetype": "text/x-python",
   "name": "python",
   "nbconvert_exporter": "python",
   "pygments_lexer": "ipython3",
   "version": "3.8.10"
  }
 },
 "nbformat": 4,
 "nbformat_minor": 5
}
